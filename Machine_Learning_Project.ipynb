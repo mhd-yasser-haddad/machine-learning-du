{
  "cells": [
    {
      "cell_type": "markdown",
      "metadata": {
        "id": "_GORBzpw93p2"
      },
      "source": [
        "# Importing Necessary Libraries"
      ]
    },
    {
      "cell_type": "code",
      "execution_count": null,
      "metadata": {
        "id": "LX7Qjy6p93p4"
      },
      "outputs": [],
      "source": [
        "import pandas as pd\n",
        "import numpy as np\n",
        "import seaborn as sns\n",
        "import matplotlib.pyplot as plt\n",
        "from sklearn.metrics import accuracy_score\n",
        "from sklearn.neighbors import KNeighborsClassifier #KNN Model\n",
        "from sklearn.ensemble import RandomForestClassifier #RandomForest Model\n",
        "from sklearn.linear_model import LogisticRegression #Logistic Model\n",
        "from sklearn.ensemble import AdaBoostClassifier # Adabtive Boost Model\n",
        "from sklearn.model_selection import train_test_split # Splitting into train and test\n",
        "from sklearn.model_selection import GridSearchCV# Hyperparameter Tuning\n",
        "from sklearn.model_selection import cross_val_score#cross validation score\n",
        "from sklearn.metrics import classification_report # text report showing the main classification metrics\n",
        "from sklearn.metrics import confusion_matrix #to get confusion_matirx\n"
      ]
    },
    {
      "cell_type": "markdown",
      "metadata": {
        "id": "P0FUz7I193p5"
      },
      "source": [
        "# Read the dataset as csv file and get a glance on it"
      ]
    },
    {
      "cell_type": "code",
      "execution_count": null,
      "metadata": {
        "id": "Pjq9Xz2p93p5",
        "outputId": "e7189ffc-f8f8-4bec-8b5b-3d7b5eedb6a6"
      },
      "outputs": [
        {
          "name": "stdout",
          "output_type": "stream",
          "text": [
            "There are Total 70000 datapoints in the dataset. \n",
            " with 13 Features listed as ['id' 'age' 'gender' 'height' 'weight' 'ap_hi' 'ap_lo' 'cholesterol'\n",
            " 'gluc' 'smoke' 'alco' 'active' 'cardio']\n"
          ]
        }
      ],
      "source": [
        "missing_values = ['?', '--', ' ', 'NA', 'N/A', '-'] #Sometimes Missing Values are't in form of NaN\n",
        "Data = pd.read_csv('Dataset/cardio_train.csv', delimiter = ';', na_values = missing_values)\n",
        "print('There are Total {} datapoints in the dataset. \\n with {} Features listed as {}'\n",
        ".format(Data.shape[0], Data.shape[1], Data.columns.values))"
      ]
    },
    {
      "cell_type": "code",
      "execution_count": null,
      "metadata": {
        "id": "l4M_js7293p6",
        "outputId": "1da49927-8220-4a12-8854-5a53003d120e"
      },
      "outputs": [
        {
          "data": {
            "text/html": [
              "<div>\n",
              "<style scoped>\n",
              "    .dataframe tbody tr th:only-of-type {\n",
              "        vertical-align: middle;\n",
              "    }\n",
              "\n",
              "    .dataframe tbody tr th {\n",
              "        vertical-align: top;\n",
              "    }\n",
              "\n",
              "    .dataframe thead th {\n",
              "        text-align: right;\n",
              "    }\n",
              "</style>\n",
              "<table border=\"1\" class=\"dataframe\">\n",
              "  <thead>\n",
              "    <tr style=\"text-align: right;\">\n",
              "      <th></th>\n",
              "      <th>id</th>\n",
              "      <th>age</th>\n",
              "      <th>gender</th>\n",
              "      <th>height</th>\n",
              "      <th>weight</th>\n",
              "      <th>ap_hi</th>\n",
              "      <th>ap_lo</th>\n",
              "      <th>cholesterol</th>\n",
              "      <th>gluc</th>\n",
              "      <th>smoke</th>\n",
              "      <th>alco</th>\n",
              "      <th>active</th>\n",
              "      <th>cardio</th>\n",
              "    </tr>\n",
              "  </thead>\n",
              "  <tbody>\n",
              "    <tr>\n",
              "      <th>0</th>\n",
              "      <td>0</td>\n",
              "      <td>18393</td>\n",
              "      <td>2</td>\n",
              "      <td>168</td>\n",
              "      <td>62.0</td>\n",
              "      <td>110</td>\n",
              "      <td>80</td>\n",
              "      <td>1</td>\n",
              "      <td>1</td>\n",
              "      <td>0</td>\n",
              "      <td>0</td>\n",
              "      <td>1</td>\n",
              "      <td>0</td>\n",
              "    </tr>\n",
              "    <tr>\n",
              "      <th>1</th>\n",
              "      <td>1</td>\n",
              "      <td>20228</td>\n",
              "      <td>1</td>\n",
              "      <td>156</td>\n",
              "      <td>85.0</td>\n",
              "      <td>140</td>\n",
              "      <td>90</td>\n",
              "      <td>3</td>\n",
              "      <td>1</td>\n",
              "      <td>0</td>\n",
              "      <td>0</td>\n",
              "      <td>1</td>\n",
              "      <td>1</td>\n",
              "    </tr>\n",
              "    <tr>\n",
              "      <th>2</th>\n",
              "      <td>2</td>\n",
              "      <td>18857</td>\n",
              "      <td>1</td>\n",
              "      <td>165</td>\n",
              "      <td>64.0</td>\n",
              "      <td>130</td>\n",
              "      <td>70</td>\n",
              "      <td>3</td>\n",
              "      <td>1</td>\n",
              "      <td>0</td>\n",
              "      <td>0</td>\n",
              "      <td>0</td>\n",
              "      <td>1</td>\n",
              "    </tr>\n",
              "    <tr>\n",
              "      <th>3</th>\n",
              "      <td>3</td>\n",
              "      <td>17623</td>\n",
              "      <td>2</td>\n",
              "      <td>169</td>\n",
              "      <td>82.0</td>\n",
              "      <td>150</td>\n",
              "      <td>100</td>\n",
              "      <td>1</td>\n",
              "      <td>1</td>\n",
              "      <td>0</td>\n",
              "      <td>0</td>\n",
              "      <td>1</td>\n",
              "      <td>1</td>\n",
              "    </tr>\n",
              "    <tr>\n",
              "      <th>4</th>\n",
              "      <td>4</td>\n",
              "      <td>17474</td>\n",
              "      <td>1</td>\n",
              "      <td>156</td>\n",
              "      <td>56.0</td>\n",
              "      <td>100</td>\n",
              "      <td>60</td>\n",
              "      <td>1</td>\n",
              "      <td>1</td>\n",
              "      <td>0</td>\n",
              "      <td>0</td>\n",
              "      <td>0</td>\n",
              "      <td>0</td>\n",
              "    </tr>\n",
              "  </tbody>\n",
              "</table>\n",
              "</div>"
            ],
            "text/plain": [
              "   id    age  gender  height  weight  ap_hi  ap_lo  cholesterol  gluc  smoke  \\\n",
              "0   0  18393       2     168    62.0    110     80            1     1      0   \n",
              "1   1  20228       1     156    85.0    140     90            3     1      0   \n",
              "2   2  18857       1     165    64.0    130     70            3     1      0   \n",
              "3   3  17623       2     169    82.0    150    100            1     1      0   \n",
              "4   4  17474       1     156    56.0    100     60            1     1      0   \n",
              "\n",
              "   alco  active  cardio  \n",
              "0     0       1       0  \n",
              "1     0       1       1  \n",
              "2     0       0       1  \n",
              "3     0       1       1  \n",
              "4     0       0       0  "
            ]
          },
          "execution_count": 3,
          "metadata": {},
          "output_type": "execute_result"
        }
      ],
      "source": [
        "Data.head()"
      ]
    },
    {
      "cell_type": "markdown",
      "metadata": {
        "id": "T9l8dlVE93p6"
      },
      "source": [
        "# Explenation about the dataset and its features\n",
        "Data description\n",
        "\n",
        "There are 3 types of input features:\n",
        "\n",
        "Objective: factual information;\n",
        "\n",
        "Examination: results of medical examination;\n",
        "\n",
        "Subjective: information given by the patient.\n",
        "\n",
        "Features:\n",
        "\n",
        "1.Age | Objective Feature | age | int (days)\n",
        "\n",
        "2.Height | Objective Feature | height | int (cm) |\n",
        "\n",
        "3.Weight | Objective Feature | weight | float (kg) |\n",
        "\n",
        "4.Gender | Objective Feature | gender | categorical code |\n",
        "\n",
        "5.Systolic blood pressure | Examination Feature | ap_hi | int |==>( Pressure exerted when Blood is ejected in arteries. Normal value : 120mmhg or Below)\n",
        "\n",
        "6.Diastolic blood pressure | Examination Feature | ap_lo | int |==>(Pressure exerted when Blood exerts between arteries and         heartbeats. Normal Value :   80mmhg or Below)\n",
        "\n",
        "7.Cholesterol | Examination Feature | cholesterol | 1: normal, 2: above normal, 3: well above normal |==>(Cholesterol is a type of fat found in your blood) of your blood. In Adults, 200 mg/dL is desired with 200 and 239 mg/dL as Boderline High. In Children, 170 mg/dL is desired with 170 and 199 mg/dL as Boderline High)\n",
        "\n",
        "8.Glucose | Examination Feature | gluc | 1: normal, 2: above normal, 3: well above normal |\n",
        "\n",
        "9.Smoking | Subjective Feature | smoke | binary |==>( {0 : 'Not a Smoker', 1 : 'Smoker'} )\n",
        "\n",
        "10.Alcohol intake | Subjective Feature | alco | binary |==>( {0 : 'Not a Alchoalic', 1 : 'Alchoalic'} )\n",
        "\n",
        "11.Physical activity | Subjective Feature | active | binary |==>( {0 : 'Not involved in Physical Activites', 1 : 'involved in physical activites'} )\n",
        "\n",
        "12.Presence or absence of cardiovascular disease | Target Variable | cardio | binary ==>(It's our Target Value Binary Values stating whether Person has Cardiovascular diseases (CVDs) or Not i.e. {0 : 'Not Have CVD', 1 : 'Have CVD'})\n"
      ]
    },
    {
      "cell_type": "markdown",
      "metadata": {
        "id": "favZ8Iib93p6"
      },
      "source": [
        "# Data Analysis"
      ]
    },
    {
      "cell_type": "markdown",
      "metadata": {
        "id": "3jwHd3ct93p6"
      },
      "source": [
        "Missing values"
      ]
    },
    {
      "cell_type": "code",
      "execution_count": null,
      "metadata": {
        "id": "8T4Q4CL-93p7",
        "outputId": "2b9dd64f-5857-48b9-9bb0-6598d4f5e835"
      },
      "outputs": [
        {
          "name": "stdout",
          "output_type": "stream",
          "text": [
            "Dataset contains no Null Values\n"
          ]
        }
      ],
      "source": [
        "features_with_null = [features for feature in Data.columns if Data[feature].isnull().sum()]\n",
        "if features_with_null:\n",
        "    print('Features with Null Values {}'.format(features_with_null))\n",
        "else:\n",
        "    print('Dataset contains no Null Values')"
      ]
    },
    {
      "cell_type": "markdown",
      "metadata": {
        "id": "npXeQk5w93p7"
      },
      "source": [
        "Information about dataset"
      ]
    },
    {
      "cell_type": "code",
      "execution_count": null,
      "metadata": {
        "id": "KLcq6nKM93p7",
        "outputId": "1750804e-c112-4341-e8bc-27f1ee8cff1c"
      },
      "outputs": [
        {
          "name": "stdout",
          "output_type": "stream",
          "text": [
            "<class 'pandas.core.frame.DataFrame'>\n",
            "RangeIndex: 70000 entries, 0 to 69999\n",
            "Data columns (total 13 columns):\n",
            "id             70000 non-null int64\n",
            "age            70000 non-null int64\n",
            "gender         70000 non-null int64\n",
            "height         70000 non-null int64\n",
            "weight         70000 non-null float64\n",
            "ap_hi          70000 non-null int64\n",
            "ap_lo          70000 non-null int64\n",
            "cholesterol    70000 non-null int64\n",
            "gluc           70000 non-null int64\n",
            "smoke          70000 non-null int64\n",
            "alco           70000 non-null int64\n",
            "active         70000 non-null int64\n",
            "cardio         70000 non-null int64\n",
            "dtypes: float64(1), int64(12)\n",
            "memory usage: 6.9 MB\n"
          ]
        }
      ],
      "source": [
        "Data.info()"
      ]
    },
    {
      "cell_type": "code",
      "execution_count": null,
      "metadata": {
        "id": "nlCSge8c93p7"
      },
      "outputs": [],
      "source": [
        "Data.drop(columns=['id'], inplace=True)"
      ]
    },
    {
      "cell_type": "markdown",
      "metadata": {
        "id": "Sc6nmvnZ93p7"
      },
      "source": [
        "duplicate rows"
      ]
    },
    {
      "cell_type": "code",
      "execution_count": null,
      "metadata": {
        "id": "Npj3XFW_93p8",
        "outputId": "fb9f500d-aa93-4c07-9857-dd2997e2a3b7"
      },
      "outputs": [
        {
          "name": "stdout",
          "output_type": "stream",
          "text": [
            "Duplicates Rows in Dataset are : 24\n"
          ]
        }
      ],
      "source": [
        "duplicate_sum = Data.duplicated().sum()\n",
        "if duplicate_sum:\n",
        "    print('Duplicates Rows in Dataset are : {}'.format(duplicate_sum))\n",
        "else:\n",
        "    print('Dataset contains no Duplicate Values')"
      ]
    },
    {
      "cell_type": "markdown",
      "metadata": {
        "id": "Lz6BBDUQ93p8"
      },
      "source": [
        "Duplicate Rows doesn't contribue to our prediction. Rather they just increase the training size. It's usual to get rid of duplicates from our dataset"
      ]
    },
    {
      "cell_type": "code",
      "execution_count": null,
      "metadata": {
        "id": "QHZboE1Y93p8",
        "outputId": "9d5e6b36-ecc8-4803-fb78-5276a7331048"
      },
      "outputs": [
        {
          "name": "stdout",
          "output_type": "stream",
          "text": [
            "Total 69976 datapoints remaining with 12 features\n"
          ]
        }
      ],
      "source": [
        "Data.drop_duplicates(keep = 'first', inplace = True)\n",
        "print('Total {} datapoints remaining with {} features'.format(Data.shape[0], Data.shape[1]))"
      ]
    },
    {
      "cell_type": "markdown",
      "metadata": {
        "id": "AkFAj4xi93p8"
      },
      "source": [
        "# Feature Engineering"
      ]
    },
    {
      "cell_type": "code",
      "execution_count": null,
      "metadata": {
        "id": "Him-yjnm93p8"
      },
      "outputs": [],
      "source": [
        "#we hava the feature age in days we will convert it to years by divide on 365\n",
        "Data['age']= Data['age']/365\n",
        "Data['age']= Data['age'].astype(int)"
      ]
    },
    {
      "cell_type": "markdown",
      "metadata": {
        "id": "k8YnA1PV93p8"
      },
      "source": [
        "# We will create new feature from two feature we have it [height  , weight]"
      ]
    },
    {
      "cell_type": "markdown",
      "metadata": {
        "id": "qU4mTGLt93p8"
      },
      "source": [
        "We all whenever we have height and weight, we can calculate BMI. It seems better to get another Feature BMI. Who knows we may get some better insights"
      ]
    },
    {
      "cell_type": "code",
      "execution_count": null,
      "metadata": {
        "id": "uhlZtysn93p9"
      },
      "outputs": [],
      "source": [
        "Data['BMI'] = Data['weight']/(np.power(Data['height']/100, 2))\n",
        "Data['BMI'] = Data['BMI'].astype(int)"
      ]
    },
    {
      "cell_type": "markdown",
      "metadata": {
        "id": "NcGVF5v593p9"
      },
      "source": [
        "Similarly There's a relation bewteen Systolic Diastolic blood pressure that derives  pulse pressure\n",
        "(معدل ضغط النبض (علاقة بين ضغط الدم الإنقباضي و ضغط الدم الإنبساطي))"
      ]
    },
    {
      "cell_type": "code",
      "execution_count": null,
      "metadata": {
        "id": "83jmg7iL93p9"
      },
      "outputs": [],
      "source": [
        "def pulse(Data):\n",
        "    return np.subtract(Data['ap_hi'], Data['ap_lo'])\n",
        "\n",
        "Data['pulse'] = Data.apply(pulse, axis=1)"
      ]
    },
    {
      "cell_type": "code",
      "execution_count": null,
      "metadata": {
        "id": "hp0-Qd3h93p9",
        "outputId": "e2f89f4c-d5fb-4381-aed2-a74e99c48b24"
      },
      "outputs": [
        {
          "data": {
            "text/html": [
              "<div>\n",
              "<style scoped>\n",
              "    .dataframe tbody tr th:only-of-type {\n",
              "        vertical-align: middle;\n",
              "    }\n",
              "\n",
              "    .dataframe tbody tr th {\n",
              "        vertical-align: top;\n",
              "    }\n",
              "\n",
              "    .dataframe thead th {\n",
              "        text-align: right;\n",
              "    }\n",
              "</style>\n",
              "<table border=\"1\" class=\"dataframe\">\n",
              "  <thead>\n",
              "    <tr style=\"text-align: right;\">\n",
              "      <th></th>\n",
              "      <th>age</th>\n",
              "      <th>gender</th>\n",
              "      <th>height</th>\n",
              "      <th>weight</th>\n",
              "      <th>ap_hi</th>\n",
              "      <th>ap_lo</th>\n",
              "      <th>cholesterol</th>\n",
              "      <th>gluc</th>\n",
              "      <th>smoke</th>\n",
              "      <th>alco</th>\n",
              "      <th>active</th>\n",
              "      <th>cardio</th>\n",
              "      <th>BMI</th>\n",
              "      <th>pulse</th>\n",
              "    </tr>\n",
              "  </thead>\n",
              "  <tbody>\n",
              "    <tr>\n",
              "      <th>0</th>\n",
              "      <td>50</td>\n",
              "      <td>2</td>\n",
              "      <td>168</td>\n",
              "      <td>62.0</td>\n",
              "      <td>110</td>\n",
              "      <td>80</td>\n",
              "      <td>1</td>\n",
              "      <td>1</td>\n",
              "      <td>0</td>\n",
              "      <td>0</td>\n",
              "      <td>1</td>\n",
              "      <td>0</td>\n",
              "      <td>21</td>\n",
              "      <td>30.0</td>\n",
              "    </tr>\n",
              "    <tr>\n",
              "      <th>1</th>\n",
              "      <td>55</td>\n",
              "      <td>1</td>\n",
              "      <td>156</td>\n",
              "      <td>85.0</td>\n",
              "      <td>140</td>\n",
              "      <td>90</td>\n",
              "      <td>3</td>\n",
              "      <td>1</td>\n",
              "      <td>0</td>\n",
              "      <td>0</td>\n",
              "      <td>1</td>\n",
              "      <td>1</td>\n",
              "      <td>34</td>\n",
              "      <td>50.0</td>\n",
              "    </tr>\n",
              "    <tr>\n",
              "      <th>2</th>\n",
              "      <td>51</td>\n",
              "      <td>1</td>\n",
              "      <td>165</td>\n",
              "      <td>64.0</td>\n",
              "      <td>130</td>\n",
              "      <td>70</td>\n",
              "      <td>3</td>\n",
              "      <td>1</td>\n",
              "      <td>0</td>\n",
              "      <td>0</td>\n",
              "      <td>0</td>\n",
              "      <td>1</td>\n",
              "      <td>23</td>\n",
              "      <td>60.0</td>\n",
              "    </tr>\n",
              "    <tr>\n",
              "      <th>3</th>\n",
              "      <td>48</td>\n",
              "      <td>2</td>\n",
              "      <td>169</td>\n",
              "      <td>82.0</td>\n",
              "      <td>150</td>\n",
              "      <td>100</td>\n",
              "      <td>1</td>\n",
              "      <td>1</td>\n",
              "      <td>0</td>\n",
              "      <td>0</td>\n",
              "      <td>1</td>\n",
              "      <td>1</td>\n",
              "      <td>28</td>\n",
              "      <td>50.0</td>\n",
              "    </tr>\n",
              "    <tr>\n",
              "      <th>4</th>\n",
              "      <td>47</td>\n",
              "      <td>1</td>\n",
              "      <td>156</td>\n",
              "      <td>56.0</td>\n",
              "      <td>100</td>\n",
              "      <td>60</td>\n",
              "      <td>1</td>\n",
              "      <td>1</td>\n",
              "      <td>0</td>\n",
              "      <td>0</td>\n",
              "      <td>0</td>\n",
              "      <td>0</td>\n",
              "      <td>23</td>\n",
              "      <td>40.0</td>\n",
              "    </tr>\n",
              "  </tbody>\n",
              "</table>\n",
              "</div>"
            ],
            "text/plain": [
              "   age  gender  height  weight  ap_hi  ap_lo  cholesterol  gluc  smoke  alco  \\\n",
              "0   50       2     168    62.0    110     80            1     1      0     0   \n",
              "1   55       1     156    85.0    140     90            3     1      0     0   \n",
              "2   51       1     165    64.0    130     70            3     1      0     0   \n",
              "3   48       2     169    82.0    150    100            1     1      0     0   \n",
              "4   47       1     156    56.0    100     60            1     1      0     0   \n",
              "\n",
              "   active  cardio  BMI  pulse  \n",
              "0       1       0   21   30.0  \n",
              "1       1       1   34   50.0  \n",
              "2       0       1   23   60.0  \n",
              "3       1       1   28   50.0  \n",
              "4       0       0   23   40.0  "
            ]
          },
          "execution_count": 12,
          "metadata": {},
          "output_type": "execute_result"
        }
      ],
      "source": [
        "Data.head()"
      ]
    },
    {
      "cell_type": "markdown",
      "metadata": {
        "id": "cCWRwTv493p9"
      },
      "source": [
        "# Detect outliers"
      ]
    },
    {
      "cell_type": "code",
      "execution_count": null,
      "metadata": {
        "id": "cVi90Ycp93p9",
        "outputId": "16d9f682-9973-4516-dd13-41cc2ae0fac1"
      },
      "outputs": [
        {
          "data": {
            "text/plain": [
              "(array([0, 1, 2, 3]), <a list of 4 Text major ticklabel objects>)"
            ]
          },
          "execution_count": 13,
          "metadata": {},
          "output_type": "execute_result"
        },
        {
          "data": {
            "image/png": "[encoded data removed]",
            "text/plain": [
              "<Figure size 360x360 with 1 Axes>"
            ]
          },
          "metadata": {
            "needs_background": "light"
          },
          "output_type": "display_data"
        }
      ],
      "source": [
        "import matplotlib.pyplot as plt\n",
        "import seaborn as sns\n",
        "\n",
        "Data_melt = pd.melt(frame= Data, id_vars='cardio',\n",
        "                  value_vars=[ 'ap_hi' , 'ap_lo' ,'age','cholesterol'],\n",
        "                  var_name='features',\n",
        "                  value_name='value',\n",
        "                  col_level=None)\n",
        "# Box plot\n",
        "plt.figure(figsize=(5, 5))\n",
        "sns.boxplot(x='features', y='value', hue='cardio', data=Data_melt)\n",
        "plt.xticks(rotation=90)"
      ]
    },
    {
      "cell_type": "markdown",
      "metadata": {
        "id": "ASfv5ugF93p9"
      },
      "source": [
        "We note that ap_hi and ap_lo have a outliers but the BMI and age aren't have an outliers"
      ]
    },
    {
      "cell_type": "markdown",
      "metadata": {
        "id": "AX1x8v-z93p-"
      },
      "source": [
        "# Remove outliers"
      ]
    },
    {
      "cell_type": "markdown",
      "metadata": {
        "id": "QM6iM2F093p-"
      },
      "source": [
        "we will use IQR(Interquartile Range) to remove the outliers points form dataset"
      ]
    },
    {
      "cell_type": "code",
      "execution_count": null,
      "metadata": {
        "id": "2Ce34Ver93p-",
        "outputId": "2e4bd6e6-8755-4ded-ffc3-8a53364ee046"
      },
      "outputs": [
        {
          "data": {
            "text/plain": [
              "(69976, 14)"
            ]
          },
          "execution_count": 14,
          "metadata": {},
          "output_type": "execute_result"
        }
      ],
      "source": [
        "Data.shape"
      ]
    },
    {
      "cell_type": "code",
      "execution_count": null,
      "metadata": {
        "id": "0B4VS74K93p-",
        "outputId": "d2abca58-73bb-4133-e7ec-24539d6537e3"
      },
      "outputs": [
        {
          "data": {
            "text/html": [
              "<div>\n",
              "<style scoped>\n",
              "    .dataframe tbody tr th:only-of-type {\n",
              "        vertical-align: middle;\n",
              "    }\n",
              "\n",
              "    .dataframe tbody tr th {\n",
              "        vertical-align: top;\n",
              "    }\n",
              "\n",
              "    .dataframe thead th {\n",
              "        text-align: right;\n",
              "    }\n",
              "</style>\n",
              "<table border=\"1\" class=\"dataframe\">\n",
              "  <thead>\n",
              "    <tr style=\"text-align: right;\">\n",
              "      <th></th>\n",
              "      <th>ap_hi</th>\n",
              "      <th>ap_lo</th>\n",
              "      <th>cholesterol</th>\n",
              "    </tr>\n",
              "  </thead>\n",
              "  <tbody>\n",
              "    <tr>\n",
              "      <th>lower_bound</th>\n",
              "      <td>90.0</td>\n",
              "      <td>65.0</td>\n",
              "      <td>-0.5</td>\n",
              "    </tr>\n",
              "    <tr>\n",
              "      <th>upper_bound</th>\n",
              "      <td>170.0</td>\n",
              "      <td>105.0</td>\n",
              "      <td>3.5</td>\n",
              "    </tr>\n",
              "  </tbody>\n",
              "</table>\n",
              "</div>"
            ],
            "text/plain": [
              "             ap_hi  ap_lo  cholesterol\n",
              "lower_bound   90.0   65.0         -0.5\n",
              "upper_bound  170.0  105.0          3.5"
            ]
          },
          "execution_count": 15,
          "metadata": {},
          "output_type": "execute_result"
        }
      ],
      "source": [
        "feature_list = ['ap_hi', 'ap_lo','cholesterol', ]\n",
        "df_ap = pd.DataFrame(index=['lower_bound', 'upper_bound'])\n",
        "\n",
        "for i in feature_list:\n",
        "    Q1 = Data[i].quantile(0.25)\n",
        "    Q3 = Data[i].quantile(0.75)\n",
        "    IQR = Q3 - Q1\n",
        "\n",
        "    lowr_bound = Q1 - 1.5*IQR\n",
        "    upper_bound = Q3 + 1.5*IQR\n",
        "    df_ap[i] = [lowr_bound, upper_bound]\n",
        "\n",
        "df_ap.head()"
      ]
    },
    {
      "cell_type": "code",
      "execution_count": null,
      "metadata": {
        "id": "7ftn7GWD93p-",
        "outputId": "5f0eaa12-b388-4aec-dcbd-d8f6679d7a7e"
      },
      "outputs": [
        {
          "data": {
            "text/plain": [
              "(64478, 14)"
            ]
          },
          "execution_count": 16,
          "metadata": {},
          "output_type": "execute_result"
        }
      ],
      "source": [
        "#remove the outliers\n",
        "outlier_filter = ((Data[\"ap_hi\"]>170) |(Data[\"ap_hi\"]<90)| (Data[\"ap_lo\"]>105)|(Data[\"ap_lo\"]< 65) |(Data[\"cholesterol\"]> 3.5)|(Data[\"cholesterol\"]< -0.5) )\n",
        "Data = Data[~outlier_filter]\n",
        "Data.shape"
      ]
    },
    {
      "cell_type": "code",
      "execution_count": null,
      "metadata": {
        "id": "3bwWf7o493p-",
        "outputId": "0206acce-8b89-4b71-90cc-03b37d06bf0d"
      },
      "outputs": [
        {
          "data": {
            "text/plain": [
              "(array([0, 1, 2, 3]), <a list of 4 Text major ticklabel objects>)"
            ]
          },
          "execution_count": 17,
          "metadata": {},
          "output_type": "execute_result"
        },
        {
          "data": {
            "image/png": "[encoded data removed]",
            "text/plain": [
              "<Figure size 360x360 with 1 Axes>"
            ]
          },
          "metadata": {
            "needs_background": "light"
          },
          "output_type": "display_data"
        }
      ],
      "source": [
        "Data_melt = pd.melt(frame= Data, id_vars='cardio',\n",
        "                  value_vars=[ 'ap_hi' , 'ap_lo' , 'cholesterol','age'],\n",
        "                  var_name='features',\n",
        "                  value_name='value',\n",
        "                  col_level=None)\n",
        "# Box plot\n",
        "plt.figure(figsize=(5, 5))\n",
        "sns.boxplot(x='features', y='value', hue='cardio', data=Data_melt)\n",
        "plt.xticks(rotation=90)"
      ]
    },
    {
      "cell_type": "code",
      "execution_count": null,
      "metadata": {
        "id": "3RurKznu93p-"
      },
      "outputs": [],
      "source": [
        "data=Data[['age','gender','height','weight','ap_hi','ap_lo','cholesterol','gluc','smoke','alco','active','BMI','pulse','cardio']]"
      ]
    },
    {
      "cell_type": "markdown",
      "metadata": {
        "id": "AG78_x0V93p_"
      },
      "source": [
        "# Data standarization"
      ]
    },
    {
      "cell_type": "code",
      "execution_count": null,
      "metadata": {
        "id": "kVlxU-hZ93p_",
        "outputId": "d521ffd8-eec0-4fa1-a0f7-33f6c37fa5e4"
      },
      "outputs": [
        {
          "data": {
            "text/html": [
              "<div>\n",
              "<style scoped>\n",
              "    .dataframe tbody tr th:only-of-type {\n",
              "        vertical-align: middle;\n",
              "    }\n",
              "\n",
              "    .dataframe tbody tr th {\n",
              "        vertical-align: top;\n",
              "    }\n",
              "\n",
              "    .dataframe thead th {\n",
              "        text-align: right;\n",
              "    }\n",
              "</style>\n",
              "<table border=\"1\" class=\"dataframe\">\n",
              "  <thead>\n",
              "    <tr style=\"text-align: right;\">\n",
              "      <th></th>\n",
              "      <th>age</th>\n",
              "      <th>gender</th>\n",
              "      <th>height</th>\n",
              "      <th>weight</th>\n",
              "      <th>ap_hi</th>\n",
              "      <th>ap_lo</th>\n",
              "      <th>cholesterol</th>\n",
              "      <th>gluc</th>\n",
              "      <th>smoke</th>\n",
              "      <th>alco</th>\n",
              "      <th>active</th>\n",
              "      <th>BMI</th>\n",
              "      <th>pulse</th>\n",
              "      <th>cardio</th>\n",
              "    </tr>\n",
              "  </thead>\n",
              "  <tbody>\n",
              "    <tr>\n",
              "      <th>0</th>\n",
              "      <td>-0.430641</td>\n",
              "      <td>1.356848</td>\n",
              "      <td>0.434714</td>\n",
              "      <td>-0.867153</td>\n",
              "      <td>-1.155664</td>\n",
              "      <td>-0.232064</td>\n",
              "      <td>-0.535581</td>\n",
              "      <td>-0.394124</td>\n",
              "      <td>0</td>\n",
              "      <td>0</td>\n",
              "      <td>1</td>\n",
              "      <td>-1.008088</td>\n",
              "      <td>-1.416735</td>\n",
              "      <td>0</td>\n",
              "    </tr>\n",
              "    <tr>\n",
              "      <th>1</th>\n",
              "      <td>0.310770</td>\n",
              "      <td>-0.736991</td>\n",
              "      <td>-1.037783</td>\n",
              "      <td>0.759008</td>\n",
              "      <td>0.929608</td>\n",
              "      <td>1.064198</td>\n",
              "      <td>2.404041</td>\n",
              "      <td>-0.394124</td>\n",
              "      <td>0</td>\n",
              "      <td>0</td>\n",
              "      <td>1</td>\n",
              "      <td>1.156941</td>\n",
              "      <td>0.493147</td>\n",
              "      <td>1</td>\n",
              "    </tr>\n",
              "    <tr>\n",
              "      <th>2</th>\n",
              "      <td>-0.282359</td>\n",
              "      <td>-0.736991</td>\n",
              "      <td>0.066589</td>\n",
              "      <td>-0.725748</td>\n",
              "      <td>0.234517</td>\n",
              "      <td>-1.528326</td>\n",
              "      <td>2.404041</td>\n",
              "      <td>-0.394124</td>\n",
              "      <td>0</td>\n",
              "      <td>0</td>\n",
              "      <td>0</td>\n",
              "      <td>-0.675006</td>\n",
              "      <td>1.448088</td>\n",
              "      <td>1</td>\n",
              "    </tr>\n",
              "    <tr>\n",
              "      <th>3</th>\n",
              "      <td>-0.727205</td>\n",
              "      <td>1.356848</td>\n",
              "      <td>0.557422</td>\n",
              "      <td>0.546900</td>\n",
              "      <td>1.624698</td>\n",
              "      <td>2.360460</td>\n",
              "      <td>-0.535581</td>\n",
              "      <td>-0.394124</td>\n",
              "      <td>0</td>\n",
              "      <td>0</td>\n",
              "      <td>1</td>\n",
              "      <td>0.157697</td>\n",
              "      <td>0.493147</td>\n",
              "      <td>1</td>\n",
              "    </tr>\n",
              "    <tr>\n",
              "      <th>5</th>\n",
              "      <td>1.052181</td>\n",
              "      <td>-0.736991</td>\n",
              "      <td>-1.651323</td>\n",
              "      <td>-0.513640</td>\n",
              "      <td>-0.460573</td>\n",
              "      <td>-0.232064</td>\n",
              "      <td>0.934230</td>\n",
              "      <td>1.351829</td>\n",
              "      <td>0</td>\n",
              "      <td>0</td>\n",
              "      <td>0</td>\n",
              "      <td>0.324237</td>\n",
              "      <td>-0.461794</td>\n",
              "      <td>0</td>\n",
              "    </tr>\n",
              "  </tbody>\n",
              "</table>\n",
              "</div>"
            ],
            "text/plain": [
              "        age    gender    height    weight     ap_hi     ap_lo  cholesterol  \\\n",
              "0 -0.430641  1.356848  0.434714 -0.867153 -1.155664 -0.232064    -0.535581   \n",
              "1  0.310770 -0.736991 -1.037783  0.759008  0.929608  1.064198     2.404041   \n",
              "2 -0.282359 -0.736991  0.066589 -0.725748  0.234517 -1.528326     2.404041   \n",
              "3 -0.727205  1.356848  0.557422  0.546900  1.624698  2.360460    -0.535581   \n",
              "5  1.052181 -0.736991 -1.651323 -0.513640 -0.460573 -0.232064     0.934230   \n",
              "\n",
              "       gluc  smoke  alco  active       BMI     pulse  cardio  \n",
              "0 -0.394124      0     0       1 -1.008088 -1.416735       0  \n",
              "1 -0.394124      0     0       1  1.156941  0.493147       1  \n",
              "2 -0.394124      0     0       0 -0.675006  1.448088       1  \n",
              "3 -0.394124      0     0       1  0.157697  0.493147       1  \n",
              "5  1.351829      0     0       0  0.324237 -0.461794       0  "
            ]
          },
          "execution_count": 19,
          "metadata": {},
          "output_type": "execute_result"
        }
      ],
      "source": [
        "std_list = [\"age\" ,\"BMI\",\"ap_hi\", \"ap_lo\",\"gender\",\"height\",\"weight\",\"cholesterol\",\"gluc\",\"pulse\"]\n",
        "\n",
        "def standartization(x):\n",
        "    x_std = x.copy(deep=True)\n",
        "    for column in std_list:\n",
        "        x_std[column] = (x_std[column] - x_std[column].mean()) / x_std[column].std()\n",
        "    return x_std\n",
        "\n",
        "data= standartization(data)\n",
        "data.head()"
      ]
    },
    {
      "cell_type": "markdown",
      "metadata": {
        "id": "XhgtDQ7l93p_"
      },
      "source": [
        "# Feature selection\n",
        "   Now we have some new feature, let's build up a heat map to get to know about correlation between variables"
      ]
    },
    {
      "cell_type": "code",
      "execution_count": null,
      "metadata": {
        "id": "9P8hwxSt93p_",
        "outputId": "c33ef410-9d44-4238-e992-11ae5a8301e3"
      },
      "outputs": [
        {
          "data": {
            "image/png": "[encoded data removed]",
            "text/plain": [
              "<Figure size 1080x720 with 2 Axes>"
            ]
          },
          "metadata": {
            "needs_background": "light"
          },
          "output_type": "display_data"
        }
      ],
      "source": [
        "\n",
        "plt.rcParams['figure.figsize'] = (15, 10)\n",
        "sns.heatmap(data.corr(), annot = True, linewidths=.5, cmap=\"YlGnBu\")\n",
        "plt.title('Corelation Between Features', fontsize = 30)\n",
        "plt.show()"
      ]
    },
    {
      "cell_type": "markdown",
      "metadata": {
        "id": "HPkehhLw93p_"
      },
      "source": [
        "From the above figure we find that the most features correlation with the target_value(cardio) are :\n",
        "[age , ap_hi , ap_lo ,cholesterol]\n",
        "and we find that the new feature (BMI) isn't useful becasue not correlation with the target_value therefore we will drop it.\n",
        "and we will drop every feather which not has a power correlation with target value ."
      ]
    },
    {
      "cell_type": "code",
      "execution_count": null,
      "metadata": {
        "id": "7Fi5H29K93qB"
      },
      "outputs": [],
      "source": [
        "data.drop(['BMI', 'weight','height', 'gluc', 'gender', 'smoke', 'alco', 'active'], axis =1,inplace=True)"
      ]
    },
    {
      "cell_type": "code",
      "execution_count": null,
      "metadata": {
        "id": "vtCglXrE93qC",
        "outputId": "2865395d-236e-497d-87b1-7b93beba1951"
      },
      "outputs": [
        {
          "data": {
            "text/html": [
              "<div>\n",
              "<style scoped>\n",
              "    .dataframe tbody tr th:only-of-type {\n",
              "        vertical-align: middle;\n",
              "    }\n",
              "\n",
              "    .dataframe tbody tr th {\n",
              "        vertical-align: top;\n",
              "    }\n",
              "\n",
              "    .dataframe thead th {\n",
              "        text-align: right;\n",
              "    }\n",
              "</style>\n",
              "<table border=\"1\" class=\"dataframe\">\n",
              "  <thead>\n",
              "    <tr style=\"text-align: right;\">\n",
              "      <th></th>\n",
              "      <th>age</th>\n",
              "      <th>ap_hi</th>\n",
              "      <th>ap_lo</th>\n",
              "      <th>cholesterol</th>\n",
              "      <th>pulse</th>\n",
              "    </tr>\n",
              "  </thead>\n",
              "  <tbody>\n",
              "    <tr>\n",
              "      <th>0</th>\n",
              "      <td>-0.430641</td>\n",
              "      <td>-1.155664</td>\n",
              "      <td>-0.232064</td>\n",
              "      <td>-0.535581</td>\n",
              "      <td>-1.416735</td>\n",
              "    </tr>\n",
              "    <tr>\n",
              "      <th>1</th>\n",
              "      <td>0.310770</td>\n",
              "      <td>0.929608</td>\n",
              "      <td>1.064198</td>\n",
              "      <td>2.404041</td>\n",
              "      <td>0.493147</td>\n",
              "    </tr>\n",
              "    <tr>\n",
              "      <th>2</th>\n",
              "      <td>-0.282359</td>\n",
              "      <td>0.234517</td>\n",
              "      <td>-1.528326</td>\n",
              "      <td>2.404041</td>\n",
              "      <td>1.448088</td>\n",
              "    </tr>\n",
              "    <tr>\n",
              "      <th>3</th>\n",
              "      <td>-0.727205</td>\n",
              "      <td>1.624698</td>\n",
              "      <td>2.360460</td>\n",
              "      <td>-0.535581</td>\n",
              "      <td>0.493147</td>\n",
              "    </tr>\n",
              "    <tr>\n",
              "      <th>5</th>\n",
              "      <td>1.052181</td>\n",
              "      <td>-0.460573</td>\n",
              "      <td>-0.232064</td>\n",
              "      <td>0.934230</td>\n",
              "      <td>-0.461794</td>\n",
              "    </tr>\n",
              "  </tbody>\n",
              "</table>\n",
              "</div>"
            ],
            "text/plain": [
              "        age     ap_hi     ap_lo  cholesterol     pulse\n",
              "0 -0.430641 -1.155664 -0.232064    -0.535581 -1.416735\n",
              "1  0.310770  0.929608  1.064198     2.404041  0.493147\n",
              "2 -0.282359  0.234517 -1.528326     2.404041  1.448088\n",
              "3 -0.727205  1.624698  2.360460    -0.535581  0.493147\n",
              "5  1.052181 -0.460573 -0.232064     0.934230 -0.461794"
            ]
          },
          "execution_count": 22,
          "metadata": {},
          "output_type": "execute_result"
        }
      ],
      "source": [
        "X = data.iloc[:, :-1]\n",
        "X.head()"
      ]
    },
    {
      "cell_type": "code",
      "execution_count": null,
      "metadata": {
        "id": "k38mNCHj93qC",
        "outputId": "afb38392-f681-4a93-8d51-16cd60c0150c"
      },
      "outputs": [
        {
          "data": {
            "text/plain": [
              "(64478, 5)"
            ]
          },
          "execution_count": 23,
          "metadata": {},
          "output_type": "execute_result"
        }
      ],
      "source": [
        "X.shape"
      ]
    },
    {
      "cell_type": "code",
      "execution_count": null,
      "metadata": {
        "id": "R3uXgttt93qC",
        "outputId": "88f28096-de64-481b-b936-0e5fb51454fd"
      },
      "outputs": [
        {
          "data": {
            "text/plain": [
              "0    0\n",
              "1    1\n",
              "2    1\n",
              "3    1\n",
              "5    0\n",
              "Name: cardio, dtype: int64"
            ]
          },
          "execution_count": 24,
          "metadata": {},
          "output_type": "execute_result"
        }
      ],
      "source": [
        "y = data.iloc[: ,-1]\n",
        "y.head()"
      ]
    },
    {
      "cell_type": "markdown",
      "metadata": {
        "id": "d5_OCsGT93qC"
      },
      "source": [
        "# Modelling"
      ]
    },
    {
      "cell_type": "code",
      "execution_count": null,
      "metadata": {
        "id": "7IyG3uIp93qC"
      },
      "outputs": [],
      "source": [
        "X_train, X_test, y_train, y_test = train_test_split(X,y, test_size=0.2, random_state=42,)"
      ]
    },
    {
      "cell_type": "code",
      "execution_count": null,
      "metadata": {
        "id": "sbKQmb6q93qC",
        "outputId": "44b01103-2d49-4943-c30c-ea35a799eed3"
      },
      "outputs": [
        {
          "name": "stdout",
          "output_type": "stream",
          "text": [
            "training data shape is :(51582, 5).\n",
            "training label shape is :(51582,).\n",
            "testing data shape is :(12896, 5).\n",
            "testing label shape is :(12896,).\n"
          ]
        }
      ],
      "source": [
        "print('training data shape is :{}.'.format(X_train.shape))\n",
        "print('training label shape is :{}.'.format(y_train.shape))\n",
        "print('testing data shape is :{}.'.format(X_test.shape))\n",
        "print('testing label shape is :{}.'.format(y_test.shape))"
      ]
    },
    {
      "cell_type": "markdown",
      "metadata": {
        "id": "-0wjBQ4u93qC"
      },
      "source": [
        "# KNN\n",
        "Datapoint is classified by a plurality vote of its neighbors"
      ]
    },
    {
      "cell_type": "code",
      "execution_count": null,
      "metadata": {
        "id": "kU_p41Fj93qC"
      },
      "outputs": [],
      "source": [
        "params = {'n_neighbors':list(range(1, 51)),\n",
        "          'weights':['uniform', 'distance'],\n",
        "          'p':[1,2]}"
      ]
    },
    {
      "cell_type": "markdown",
      "metadata": {
        "id": "vwZe3GWB93qD"
      },
      "source": [
        "# Grid Search\n",
        "we will apply grid search to get the best Hyper Parameters for every model"
      ]
    },
    {
      "cell_type": "code",
      "execution_count": null,
      "metadata": {
        "id": "bH_gQljX93qD",
        "outputId": "7fa457db-b4a3-4fc0-eaf9-5f89d739ffbb"
      },
      "outputs": [
        {
          "name": "stdout",
          "output_type": "stream",
          "text": [
            "Best Hyper Parameters:\n",
            " {'n_neighbors': 46, 'p': 2, 'weights': 'uniform'}\n"
          ]
        }
      ],
      "source": [
        "knn = KNeighborsClassifier()\n",
        "knn_grid_cv = GridSearchCV(knn, param_grid=params, cv=10)\n",
        "knn_grid_cv.fit(X_train, y_train)\n",
        "print(\"Best Hyper Parameters:\\n\",knn_grid_cv.best_params_)\n",
        "#print(\"Best Hyper Parameters: {'n_neighbors': 50, 'p': 1, 'weights': 'uniform'}\")"
      ]
    },
    {
      "cell_type": "code",
      "execution_count": null,
      "metadata": {
        "id": "NxzYuUdw93qD",
        "outputId": "156d989c-bfe5-4eef-e00c-7abaaa8d14c6"
      },
      "outputs": [
        {
          "data": {
            "text/plain": [
              "KNeighborsClassifier(algorithm='auto', leaf_size=30, metric='minkowski',\n",
              "                     metric_params=None, n_jobs=None, n_neighbors=46, p=2,\n",
              "                     weights='uniform')"
            ]
          },
          "execution_count": 29,
          "metadata": {},
          "output_type": "execute_result"
        }
      ],
      "source": [
        "knn = KNeighborsClassifier(n_neighbors=46, p=2, weights='uniform')\n",
        "knn.fit(X_train, y_train)"
      ]
    },
    {
      "cell_type": "code",
      "execution_count": null,
      "metadata": {
        "id": "aUJpDvTs93qD"
      },
      "outputs": [],
      "source": [
        "y_pred = knn.predict(X_test)"
      ]
    },
    {
      "cell_type": "markdown",
      "metadata": {
        "id": "dB8Ze8ym93qD"
      },
      "source": [
        "# Random Forest"
      ]
    },
    {
      "cell_type": "code",
      "execution_count": null,
      "metadata": {
        "id": "UlqRrDt593qD"
      },
      "outputs": [],
      "source": [
        "params = {\n",
        "    'n_estimators': [10, 50, 100, 150, 200, 300, 400, 500],\n",
        "    'max_depth' : [10,20,30,40,50],\n",
        "    'criterion' : ['entropy','gini']\n",
        "}"
      ]
    },
    {
      "cell_type": "markdown",
      "metadata": {
        "id": "1FgaZoNR93qD"
      },
      "source": [
        "# Grid Search\n",
        "n_estimators :> No of Decision Trees to be used\n",
        "\n",
        "max_depth :> Depth of Each Tree\n",
        "\n",
        "criterion :> Measure the quality of a split"
      ]
    },
    {
      "cell_type": "code",
      "execution_count": null,
      "metadata": {
        "id": "C9717tbU93qD",
        "outputId": "a8787b25-2396-485e-8039-0f293cd97828"
      },
      "outputs": [
        {
          "name": "stdout",
          "output_type": "stream",
          "text": [
            "Best Hyper Parameters:\n",
            " {'criterion': 'entropy', 'max_depth': 10, 'n_estimators': 200}\n"
          ]
        }
      ],
      "source": [
        "rfc_gridcv = RandomForestClassifier(random_state=42)\n",
        "rfc_gridcv = GridSearchCV(estimator=rfc_gridcv, param_grid=params, cv= 10, n_jobs = -1)\n",
        "rfc_gridcv.fit(X_train, y_train)\n",
        "print(\"Best Hyper Parameters:\\n\",rfc_gridcv.best_params_)"
      ]
    },
    {
      "cell_type": "code",
      "execution_count": null,
      "metadata": {
        "id": "Tywo1Pb593qE",
        "outputId": "0d773734-7568-485a-fa2a-a53c1cf9e029"
      },
      "outputs": [
        {
          "data": {
            "text/plain": [
              "RandomForestClassifier(bootstrap=True, class_weight=None, criterion='entropy',\n",
              "                       max_depth=10, max_features='auto', max_leaf_nodes=None,\n",
              "                       min_impurity_decrease=0.0, min_impurity_split=None,\n",
              "                       min_samples_leaf=1, min_samples_split=2,\n",
              "                       min_weight_fraction_leaf=0.0, n_estimators=200,\n",
              "                       n_jobs=None, oob_score=False, random_state=42, verbose=0,\n",
              "                       warm_start=False)"
            ]
          },
          "execution_count": 34,
          "metadata": {},
          "output_type": "execute_result"
        }
      ],
      "source": [
        "rfc = RandomForestClassifier(random_state=42, n_estimators=200, max_depth= 10, criterion = 'entropy')\n",
        "rfc.fit(X_train, y_train)"
      ]
    },
    {
      "cell_type": "code",
      "execution_count": null,
      "metadata": {
        "id": "IacJnK6w93qE"
      },
      "outputs": [],
      "source": [
        "y_pred=rfc.predict(X_test)"
      ]
    },
    {
      "cell_type": "code",
      "execution_count": null,
      "metadata": {
        "id": "u-wUg5kO93qE"
      },
      "outputs": [],
      "source": [
        "from sklearn import metrics\n",
        "print(\"Accuracy:\",metrics.accuracy_score(y_test, y_pred))"
      ]
    },
    {
      "cell_type": "markdown",
      "metadata": {
        "id": "5Gk90co093qE"
      },
      "source": [
        "# Logistic Regression\n"
      ]
    },
    {
      "cell_type": "code",
      "execution_count": null,
      "metadata": {
        "id": "x1fXaTP493qE"
      },
      "outputs": [],
      "source": [
        "params_for_l1 = {\n",
        "    'C' :  np.logspace(0, 4, 10),\n",
        "    'solver' : ['liblinear', 'saga']\n",
        "}\n",
        "\n",
        "params_for_l2 = {\n",
        "    'C' :  np.logspace(0, 4, 10),\n",
        "    'solver' : ['newton-cg', 'lbfgs', 'liblinear', 'sag', 'saga']\n",
        "}"
      ]
    },
    {
      "cell_type": "markdown",
      "metadata": {
        "id": "VT0OXPtd93qE"
      },
      "source": [
        "# Grid Search\n",
        "C :> Defines Strength of regularization ( smaller values specify stronger regularization )\n",
        "\n",
        "penalty :> Used to specify the norm used in the penalization\n",
        "\n",
        "solver :> Algorithm to use in the optimization problem. Different Solver supports different penalty. Hence we cane 3 cases here\n"
      ]
    },
    {
      "cell_type": "code",
      "execution_count": null,
      "metadata": {
        "id": "GfgBt_NB93qE",
        "outputId": "8ef9b03b-49b0-4b2e-d2e1-0513b51991e8"
      },
      "outputs": [
        {
          "name": "stdout",
          "output_type": "stream",
          "text": [
            "Best Hyper Parameters:\n",
            " {'C': 2.7825594022071245, 'solver': 'liblinear'}\n"
          ]
        }
      ],
      "source": [
        "logreg_with_l1_gridcv = LogisticRegression(penalty = 'l1')\n",
        "logreg_with_l1_gridcv = GridSearchCV(estimator=logreg_with_l1_gridcv, param_grid=params_for_l1, cv= 10, n_jobs = -1)\n",
        "logreg_with_l1_gridcv.fit(X_train, y_train)\n",
        "print(\"Best Hyper Parameters:\\n\",logreg_with_l1_gridcv.best_params_)"
      ]
    },
    {
      "cell_type": "code",
      "execution_count": null,
      "metadata": {
        "id": "2RvP1VZW93qE",
        "outputId": "31368df2-ba2a-4508-e72f-0f0d0481ff80"
      },
      "outputs": [
        {
          "data": {
            "text/plain": [
              "LogisticRegression(C=2.7825594022071245, class_weight=None, dual=False,\n",
              "                   fit_intercept=True, intercept_scaling=1, l1_ratio=None,\n",
              "                   max_iter=100, multi_class='warn', n_jobs=None, penalty='l1',\n",
              "                   random_state=None, solver='liblinear', tol=0.0001, verbose=0,\n",
              "                   warm_start=False)"
            ]
          },
          "execution_count": 38,
          "metadata": {},
          "output_type": "execute_result"
        }
      ],
      "source": [
        "logreg_with_l1 = LogisticRegression(penalty = 'l1', C = 2.7825594022071245, solver = 'liblinear')\n",
        "logreg_with_l1.fit(X_train, y_train)"
      ]
    },
    {
      "cell_type": "code",
      "execution_count": null,
      "metadata": {
        "id": "b1zji1uy93qE"
      },
      "outputs": [],
      "source": [
        "y_pred=logreg_with_l1.predict(X_test)"
      ]
    },
    {
      "cell_type": "markdown",
      "metadata": {
        "id": "sSTA6h6U93qF"
      },
      "source": [
        "Here grid search for params_for_l2"
      ]
    },
    {
      "cell_type": "code",
      "execution_count": null,
      "metadata": {
        "id": "b7z9Bxku93qF",
        "outputId": "d0321b8d-08d0-458c-c128-6d2fddcc05d9"
      },
      "outputs": [
        {
          "name": "stdout",
          "output_type": "stream",
          "text": [
            "Best Hyper Parameters:\n",
            " {'C': 1.0, 'solver': 'newton-cg'}\n"
          ]
        },
        {
          "name": "stderr",
          "output_type": "stream",
          "text": [
            "C:\\Users\\ASUS\\Anaconda3\\lib\\site-packages\\scipy\\optimize\\linesearch.py:313: LineSearchWarning: The line search algorithm did not converge\n",
            "  warn('The line search algorithm did not converge', LineSearchWarning)\n",
            "C:\\Users\\ASUS\\Anaconda3\\lib\\site-packages\\sklearn\\utils\\optimize.py:195: UserWarning: Line Search failed\n",
            "  warnings.warn('Line Search failed')\n"
          ]
        }
      ],
      "source": [
        "logreg_with_l2_gridcv = LogisticRegression(penalty = 'l2')\n",
        "logreg_with_l2_gridcv = GridSearchCV(estimator=logreg_with_l2_gridcv, param_grid=params_for_l2, cv= 10, n_jobs = -1)\n",
        "logreg_with_l2_gridcv.fit(X_train, y_train)\n",
        "print(\"Best Hyper Parameters:\\n\",logreg_with_l2_gridcv.best_params_)"
      ]
    },
    {
      "cell_type": "code",
      "execution_count": null,
      "metadata": {
        "id": "DF8NpMRX93qF",
        "outputId": "22165718-bbaa-4f11-d0a9-1d106dd79ac9"
      },
      "outputs": [
        {
          "name": "stderr",
          "output_type": "stream",
          "text": [
            "C:\\Users\\ASUS\\Anaconda3\\lib\\site-packages\\scipy\\optimize\\linesearch.py:313: LineSearchWarning: The line search algorithm did not converge\n",
            "  warn('The line search algorithm did not converge', LineSearchWarning)\n",
            "C:\\Users\\ASUS\\Anaconda3\\lib\\site-packages\\sklearn\\utils\\optimize.py:195: UserWarning: Line Search failed\n",
            "  warnings.warn('Line Search failed')\n"
          ]
        },
        {
          "data": {
            "text/plain": [
              "LogisticRegression(C=1.0, class_weight=None, dual=False, fit_intercept=True,\n",
              "                   intercept_scaling=1, l1_ratio=None, max_iter=100,\n",
              "                   multi_class='warn', n_jobs=None, penalty='l2',\n",
              "                   random_state=None, solver='newton-cg', tol=0.0001, verbose=0,\n",
              "                   warm_start=False)"
            ]
          },
          "execution_count": 41,
          "metadata": {},
          "output_type": "execute_result"
        }
      ],
      "source": [
        "logreg_with_l2 = LogisticRegression(penalty = 'l2', C = 1.0, solver = 'newton-cg')\n",
        "logreg_with_l2.fit(X_train, y_train)"
      ]
    },
    {
      "cell_type": "code",
      "execution_count": null,
      "metadata": {
        "id": "kaY-3Y6093qF"
      },
      "outputs": [],
      "source": [
        "y_pred=logreg_with_l2.predict(X_test)"
      ]
    },
    {
      "cell_type": "markdown",
      "metadata": {
        "id": "RHLgDj0k93qF"
      },
      "source": [
        "# AdaBoost"
      ]
    },
    {
      "cell_type": "code",
      "execution_count": null,
      "metadata": {
        "id": "_w6s_roa93qF"
      },
      "outputs": [],
      "source": [
        "params = {'n_estimators':[100,200,300]}"
      ]
    },
    {
      "cell_type": "markdown",
      "metadata": {
        "id": "NoL2x_YV93qF"
      },
      "source": [
        "# Grid Search\n",
        " n-estimators : number of base estimators or decision trees."
      ]
    },
    {
      "cell_type": "code",
      "execution_count": null,
      "metadata": {
        "id": "KPWJwPdF93qG",
        "outputId": "b6ba3842-9f8d-4f19-e7f2-951c65e9f75a"
      },
      "outputs": [
        {
          "name": "stdout",
          "output_type": "stream",
          "text": [
            "Best Hyper Parameters:\n",
            " {'n_estimators': 200}\n"
          ]
        }
      ],
      "source": [
        "boost_gridcv =  AdaBoostClassifier(random_state = 42)\n",
        "boost_gridcv = GridSearchCV(estimator=boost_gridcv, param_grid=params, cv= 10, n_jobs = -1)\n",
        "boost_gridcv.fit(X_train, y_train)\n",
        "print(\"Best Hyper Parameters:\\n\",boost_gridcv.best_params_)"
      ]
    },
    {
      "cell_type": "code",
      "execution_count": null,
      "metadata": {
        "id": "yLF_IT5N93qG",
        "outputId": "2a089dc4-edc8-4556-8458-c14f8672ca1a"
      },
      "outputs": [
        {
          "data": {
            "text/plain": [
              "AdaBoostClassifier(algorithm='SAMME.R', base_estimator=None, learning_rate=1.0,\n",
              "                   n_estimators=200, random_state=None)"
            ]
          },
          "execution_count": 45,
          "metadata": {},
          "output_type": "execute_result"
        }
      ],
      "source": [
        "adaboost = AdaBoostClassifier(n_estimators=200,)\n",
        "adaboost.fit(X_train,y_train)"
      ]
    },
    {
      "cell_type": "code",
      "execution_count": null,
      "metadata": {
        "id": "wPLoj4Zv93qG"
      },
      "outputs": [],
      "source": [
        "Y_pred = adaboost.predict(X_test)"
      ]
    },
    {
      "cell_type": "markdown",
      "metadata": {
        "id": "4MAweNk993qG"
      },
      "source": [
        "# Model Evaluation\n",
        "evaluate to find the best model for our use-case\n"
      ]
    },
    {
      "cell_type": "markdown",
      "metadata": {
        "id": "HtwWfzVq93qG"
      },
      "source": [
        "Here We will use :\n",
        "\n",
        "cross_val_score : Evaluate a Score by Cross-Validation.\n",
        "\n",
        "classification_report : Text Report showing the Main Classification Metrics.\n",
        "\n",
        "We'll gonna draw Confussion Matrix too.\n"
      ]
    },
    {
      "cell_type": "markdown",
      "metadata": {
        "id": "LzDfYDdj93qG"
      },
      "source": [
        "# Evaluation for KNN"
      ]
    },
    {
      "cell_type": "code",
      "execution_count": null,
      "metadata": {
        "id": "zKWSvUGj93qG"
      },
      "outputs": [],
      "source": [
        "scores = cross_val_score(knn, X_train, y_train, cv=10)"
      ]
    },
    {
      "cell_type": "code",
      "execution_count": null,
      "metadata": {
        "id": "8rrushPN93qG",
        "outputId": "0c57a737-8916-4ab4-bca5-56397268e6ee"
      },
      "outputs": [
        {
          "name": "stdout",
          "output_type": "stream",
          "text": [
            "              precision    recall  f1-score   support\n",
            "\n",
            "           0       0.70      0.77      0.74      6562\n",
            "           1       0.74      0.66      0.70      6334\n",
            "\n",
            "    accuracy                           0.72     12896\n",
            "   macro avg       0.72      0.72      0.72     12896\n",
            "weighted avg       0.72      0.72      0.72     12896\n",
            "\n"
          ]
        }
      ],
      "source": [
        "Y_pred = knn.predict(X_test)\n",
        "print(classification_report(y_test, Y_pred))"
      ]
    },
    {
      "cell_type": "code",
      "execution_count": null,
      "metadata": {
        "id": "e1kPeOmU93qG",
        "outputId": "8888cffd-7f34-454c-db0f-134ad0118789"
      },
      "outputs": [
        {
          "data": {
            "image/png": "[encoded data removed]",
            "text/plain": [
              "<Figure size 360x360 with 2 Axes>"
            ]
          },
          "metadata": {
            "needs_background": "light"
          },
          "output_type": "display_data"
        }
      ],
      "source": [
        "plt.rcParams['figure.figsize'] = (5, 5)\n",
        "sns.heatmap(confusion_matrix(y_test, Y_pred), annot = True, linewidths=.5, cmap=\"YlGnBu\")\n",
        "plt.title('Confusion matrix')\n",
        "plt.ylabel('Actual label')\n",
        "plt.xlabel('Predicted label')\n",
        "plt.show()"
      ]
    },
    {
      "cell_type": "markdown",
      "metadata": {
        "id": "x2xqLt9593qH"
      },
      "source": [
        "True Positive(TP) : Number of Cases Predicted with CVD and Actually had CVD.\n",
        "\n",
        "True Negative(TN) : Number of Cases Predicted with No CVD and Actually had No CVD.\n",
        "\n",
        "False Positive(FP) : Number of Cases Predicted with CVD and Actually had No CVD.\n",
        "\n",
        "False Negative(FN) : Number of Cases Predicted with No CVD and Actually had CVD"
      ]
    },
    {
      "cell_type": "code",
      "execution_count": null,
      "metadata": {
        "id": "I5cQ3usu93qH",
        "outputId": "7feea62d-ad1a-4690-9d3d-1f55e519e390"
      },
      "outputs": [
        {
          "name": "stdout",
          "output_type": "stream",
          "text": [
            "True Positive Cases : 4207\n",
            "True Negative Cases : 5077\n",
            "False Positive Cases : 1485\n",
            "False Negative Cases : 2127\n"
          ]
        }
      ],
      "source": [
        "print('True Positive Cases : {}'.format(confusion_matrix(y_test, Y_pred)[1][1]))\n",
        "print('True Negative Cases : {}'.format(confusion_matrix(y_test, Y_pred)[0][0]))\n",
        "print('False Positive Cases : {}'.format(confusion_matrix(y_test, Y_pred)[0][1]))\n",
        "print('False Negative Cases : {}'.format(confusion_matrix(y_test, Y_pred)[1][0]))"
      ]
    },
    {
      "cell_type": "markdown",
      "metadata": {
        "id": "qlle62ur93qH"
      },
      "source": [
        "# Evaluation for Random Forest"
      ]
    },
    {
      "cell_type": "code",
      "execution_count": null,
      "metadata": {
        "id": "QM72Kq7V93qH"
      },
      "outputs": [],
      "source": [
        "scores = cross_val_score(rfc, X_train, y_train, cv=10)"
      ]
    },
    {
      "cell_type": "code",
      "execution_count": null,
      "metadata": {
        "id": "ud1dQc3E93qH",
        "outputId": "81d8d5c6-a10e-4269-b222-9e73780a6357"
      },
      "outputs": [
        {
          "name": "stdout",
          "output_type": "stream",
          "text": [
            "              precision    recall  f1-score   support\n",
            "\n",
            "           0       0.71      0.77      0.74      6562\n",
            "           1       0.74      0.68      0.71      6334\n",
            "\n",
            "    accuracy                           0.73     12896\n",
            "   macro avg       0.73      0.72      0.72     12896\n",
            "weighted avg       0.73      0.73      0.73     12896\n",
            "\n"
          ]
        }
      ],
      "source": [
        "Y_pred = rfc.predict(X_test)\n",
        "print(classification_report(y_test, Y_pred))"
      ]
    },
    {
      "cell_type": "code",
      "execution_count": null,
      "metadata": {
        "id": "rwvoaDeS93qH",
        "outputId": "a6cd46e3-6009-4a68-eed8-7a4960e86815"
      },
      "outputs": [
        {
          "data": {
            "image/png": "[encoded data removed]",
            "text/plain": [
              "<Figure size 360x360 with 2 Axes>"
            ]
          },
          "metadata": {
            "needs_background": "light"
          },
          "output_type": "display_data"
        }
      ],
      "source": [
        "plt.rcParams['figure.figsize'] = (5, 5)\n",
        "sns.heatmap(confusion_matrix(y_test, Y_pred), annot = True, linewidths=.5, cmap=\"YlGnBu\")\n",
        "plt.title('Confusion matrix')\n",
        "plt.ylabel('Actual label')\n",
        "plt.xlabel('Predicted label')\n",
        "plt.show()"
      ]
    },
    {
      "cell_type": "code",
      "execution_count": null,
      "metadata": {
        "id": "ODeyM2OR93qH",
        "outputId": "ebf9ba69-28e2-46af-a7d3-d4cedaee3fb9"
      },
      "outputs": [
        {
          "name": "stdout",
          "output_type": "stream",
          "text": [
            "True Positive Cases : 4299\n",
            "True Negative Cases : 5061\n",
            "False Positive Cases : 1501\n",
            "False Negative Cases : 2035\n"
          ]
        }
      ],
      "source": [
        "print('True Positive Cases : {}'.format(confusion_matrix(y_test, Y_pred)[1][1]))\n",
        "print('True Negative Cases : {}'.format(confusion_matrix(y_test, Y_pred)[0][0]))\n",
        "print('False Positive Cases : {}'.format(confusion_matrix(y_test, Y_pred)[0][1]))\n",
        "print('False Negative Cases : {}'.format(confusion_matrix(y_test, Y_pred)[1][0]))"
      ]
    },
    {
      "cell_type": "markdown",
      "metadata": {
        "id": "HtfZ2-CU93qH"
      },
      "source": [
        "# Evaluation for Logistic Model with L1 Penalty\n"
      ]
    },
    {
      "cell_type": "code",
      "execution_count": null,
      "metadata": {
        "id": "u0quxcNw93qH"
      },
      "outputs": [],
      "source": [
        "scores = cross_val_score(logreg_with_l1, X_train, y_train, cv=10)"
      ]
    },
    {
      "cell_type": "code",
      "execution_count": null,
      "metadata": {
        "id": "_K-DjM1q93qI",
        "outputId": "14a42250-26cb-4601-f4e0-ff7baa803df6"
      },
      "outputs": [
        {
          "name": "stdout",
          "output_type": "stream",
          "text": [
            "              precision    recall  f1-score   support\n",
            "\n",
            "           0       0.70      0.78      0.74      6562\n",
            "           1       0.74      0.66      0.70      6334\n",
            "\n",
            "    accuracy                           0.72     12896\n",
            "   macro avg       0.72      0.72      0.72     12896\n",
            "weighted avg       0.72      0.72      0.72     12896\n",
            "\n"
          ]
        }
      ],
      "source": [
        "Y_pred = logreg_with_l1.predict(X_test)\n",
        "print(classification_report(y_test, Y_pred))"
      ]
    },
    {
      "cell_type": "code",
      "execution_count": null,
      "metadata": {
        "id": "iAIOgeUL93qI",
        "outputId": "39ed522e-3324-4f4e-d3ac-e6f26bead854"
      },
      "outputs": [
        {
          "data": {
            "image/png": "[encoded data removed]",
            "text/plain": [
              "<Figure size 360x360 with 2 Axes>"
            ]
          },
          "metadata": {
            "needs_background": "light"
          },
          "output_type": "display_data"
        }
      ],
      "source": [
        "plt.rcParams['figure.figsize'] = (5, 5)\n",
        "sns.heatmap(confusion_matrix(y_test, Y_pred), annot = True, linewidths=.5, cmap=\"YlGnBu\")\n",
        "plt.title('Confusion matrix')\n",
        "plt.ylabel('Actual label')\n",
        "plt.xlabel('Predicted label')\n",
        "plt.show()"
      ]
    },
    {
      "cell_type": "code",
      "execution_count": null,
      "metadata": {
        "id": "tBKbEE9O93qI",
        "outputId": "d8e8ea4e-41c2-47b8-c8a7-863b9859c066"
      },
      "outputs": [
        {
          "name": "stdout",
          "output_type": "stream",
          "text": [
            "True Positive Cases : 4184\n",
            "True Negative Cases : 5100\n",
            "False Positive Cases : 1462\n",
            "False Negative Cases : 2150\n"
          ]
        }
      ],
      "source": [
        "print('True Positive Cases : {}'.format(confusion_matrix(y_test, Y_pred)[1][1]))\n",
        "print('True Negative Cases : {}'.format(confusion_matrix(y_test, Y_pred)[0][0]))\n",
        "print('False Positive Cases : {}'.format(confusion_matrix(y_test, Y_pred)[0][1]))\n",
        "print('False Negative Cases : {}'.format(confusion_matrix(y_test, Y_pred)[1][0]))"
      ]
    },
    {
      "cell_type": "markdown",
      "metadata": {
        "id": "ZPeX4v4Y93qI"
      },
      "source": [
        "# Evaluation for Logistic Model with L2 Penalty"
      ]
    },
    {
      "cell_type": "code",
      "execution_count": null,
      "metadata": {
        "id": "mKV1wk0L93qI",
        "outputId": "419913a6-69da-4f07-db90-c3703b421456"
      },
      "outputs": [
        {
          "name": "stderr",
          "output_type": "stream",
          "text": [
            "C:\\Users\\ASUS\\Anaconda3\\lib\\site-packages\\scipy\\optimize\\linesearch.py:313: LineSearchWarning: The line search algorithm did not converge\n",
            "  warn('The line search algorithm did not converge', LineSearchWarning)\n",
            "C:\\Users\\ASUS\\Anaconda3\\lib\\site-packages\\sklearn\\utils\\optimize.py:195: UserWarning: Line Search failed\n",
            "  warnings.warn('Line Search failed')\n",
            "C:\\Users\\ASUS\\Anaconda3\\lib\\site-packages\\scipy\\optimize\\linesearch.py:313: LineSearchWarning: The line search algorithm did not converge\n",
            "  warn('The line search algorithm did not converge', LineSearchWarning)\n",
            "C:\\Users\\ASUS\\Anaconda3\\lib\\site-packages\\sklearn\\utils\\optimize.py:195: UserWarning: Line Search failed\n",
            "  warnings.warn('Line Search failed')\n"
          ]
        }
      ],
      "source": [
        "scores = cross_val_score(logreg_with_l2, X_train, y_train, cv=10)"
      ]
    },
    {
      "cell_type": "code",
      "execution_count": null,
      "metadata": {
        "id": "JKY488zn93qI",
        "outputId": "39d49423-2b74-45bc-b5db-d313afc710e8"
      },
      "outputs": [
        {
          "name": "stdout",
          "output_type": "stream",
          "text": [
            "              precision    recall  f1-score   support\n",
            "\n",
            "           0       0.70      0.78      0.74      6562\n",
            "           1       0.74      0.66      0.70      6334\n",
            "\n",
            "    accuracy                           0.72     12896\n",
            "   macro avg       0.72      0.72      0.72     12896\n",
            "weighted avg       0.72      0.72      0.72     12896\n",
            "\n"
          ]
        }
      ],
      "source": [
        "Y_pred = logreg_with_l2.predict(X_test)\n",
        "print(classification_report(y_test, Y_pred))"
      ]
    },
    {
      "cell_type": "code",
      "execution_count": null,
      "metadata": {
        "id": "MwCNDfdC93qI",
        "outputId": "70a073cd-0e49-4f09-801e-3752d806919b"
      },
      "outputs": [
        {
          "data": {
            "image/png": "[encoded data removed]",
            "text/plain": [
              "<Figure size 360x360 with 2 Axes>"
            ]
          },
          "metadata": {
            "needs_background": "light"
          },
          "output_type": "display_data"
        }
      ],
      "source": [
        "plt.rcParams['figure.figsize'] = (5, 5)\n",
        "sns.heatmap(confusion_matrix(y_test, Y_pred), annot = True, linewidths=.5, cmap=\"YlGnBu\")\n",
        "plt.title('Confusion matrix')\n",
        "plt.ylabel('Actual label')\n",
        "plt.xlabel('Predicted label')\n",
        "plt.show()"
      ]
    },
    {
      "cell_type": "code",
      "execution_count": null,
      "metadata": {
        "id": "QZoo5lbg93qI",
        "outputId": "50258287-8203-4db6-e5ae-5094c6ef40c5"
      },
      "outputs": [
        {
          "name": "stdout",
          "output_type": "stream",
          "text": [
            "True Positive Cases : 4184\n",
            "True Negative Cases : 5100\n",
            "False Positive Cases : 1462\n",
            "False Negative Cases : 2150\n"
          ]
        }
      ],
      "source": [
        "print('True Positive Cases : {}'.format(confusion_matrix(y_test, Y_pred)[1][1]))\n",
        "print('True Negative Cases : {}'.format(confusion_matrix(y_test, Y_pred)[0][0]))\n",
        "print('False Positive Cases : {}'.format(confusion_matrix(y_test, Y_pred)[0][1]))\n",
        "print('False Negative Cases : {}'.format(confusion_matrix(y_test, Y_pred)[1][0]))"
      ]
    },
    {
      "cell_type": "markdown",
      "metadata": {
        "id": "6DFcaaLO93qI"
      },
      "source": [
        "# Evalution for Adaboost"
      ]
    },
    {
      "cell_type": "code",
      "execution_count": null,
      "metadata": {
        "id": "xpwufKJB93qI"
      },
      "outputs": [],
      "source": [
        "scores = cross_val_score(adaboost, X_train, y_train, cv=10)"
      ]
    },
    {
      "cell_type": "code",
      "execution_count": null,
      "metadata": {
        "id": "KTKKSt4Q93qJ",
        "outputId": "5227b206-80f2-45eb-d332-6578f037a240"
      },
      "outputs": [
        {
          "name": "stdout",
          "output_type": "stream",
          "text": [
            "              precision    recall  f1-score   support\n",
            "\n",
            "           0       0.70      0.79      0.74      6562\n",
            "           1       0.75      0.65      0.70      6334\n",
            "\n",
            "    accuracy                           0.72     12896\n",
            "   macro avg       0.73      0.72      0.72     12896\n",
            "weighted avg       0.73      0.72      0.72     12896\n",
            "\n"
          ]
        }
      ],
      "source": [
        "Y_pred = adaboost.predict(X_test)\n",
        "print(classification_report(y_test, Y_pred))"
      ]
    },
    {
      "cell_type": "code",
      "execution_count": null,
      "metadata": {
        "id": "qUo-Yyid93qJ",
        "outputId": "646914a0-abc8-4946-d2b5-37a0d07c918c"
      },
      "outputs": [
        {
          "data": {
            "image/png": "[encoded data removed]",
            "text/plain": [
              "<Figure size 360x360 with 2 Axes>"
            ]
          },
          "metadata": {
            "needs_background": "light"
          },
          "output_type": "display_data"
        }
      ],
      "source": [
        "plt.rcParams['figure.figsize'] = (5, 5)\n",
        "sns.heatmap(confusion_matrix(y_test, Y_pred), annot = True, linewidths=.5, cmap=\"YlGnBu\")\n",
        "plt.title('Confusion matrix')\n",
        "plt.ylabel('Actual label')\n",
        "plt.xlabel('Predicted label')\n",
        "plt.show()"
      ]
    },
    {
      "cell_type": "code",
      "execution_count": null,
      "metadata": {
        "id": "bLA53_uV93qJ",
        "outputId": "92142dec-86f0-4a9f-a581-ac5c419095d7"
      },
      "outputs": [
        {
          "name": "stdout",
          "output_type": "stream",
          "text": [
            "True Positive Cases : 4118\n",
            "True Negative Cases : 5208\n",
            "False Positive Cases : 1354\n",
            "False Negative Cases : 2216\n"
          ]
        }
      ],
      "source": [
        "print('True Positive Cases : {}'.format(confusion_matrix(y_test, Y_pred)[1][1]))\n",
        "print('True Negative Cases : {}'.format(confusion_matrix(y_test, Y_pred)[0][0]))\n",
        "print('False Positive Cases : {}'.format(confusion_matrix(y_test, Y_pred)[0][1]))\n",
        "print('False Negative Cases : {}'.format(confusion_matrix(y_test, Y_pred)[1][0]))"
      ]
    }
  ],
  "metadata": {
    "kernelspec": {
      "display_name": "Python 3",
      "language": "python",
      "name": "python3"
    },
    "language_info": {
      "codemirror_mode": {
        "name": "ipython",
        "version": 3
      },
      "file_extension": ".py",
      "mimetype": "text/x-python",
      "name": "python",
      "nbconvert_exporter": "python",
      "pygments_lexer": "ipython3",
      "version": "3.7.3"
    },
    "colab": {
      "provenance": []
    }
  },
  "nbformat": 4,
  "nbformat_minor": 0
}